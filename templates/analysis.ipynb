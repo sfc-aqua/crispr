{
 "cells": [
  {
   "cell_type": "code",
   "execution_count": null,
   "metadata": {},
   "outputs": [],
   "source": [
    "!pip install pandas matplotlib"
   ]
  },
  {
   "cell_type": "code",
   "execution_count": null,
   "metadata": {},
   "outputs": [],
   "source": [
    "import pickle, os\n",
    "import pandas as pd"
   ]
  },
  {
   "cell_type": "code",
   "execution_count": null,
   "metadata": {},
   "outputs": [],
   "source": [
    "dataset = None\n",
    "params = []\n",
    "results = [\"num_total_events\",\"user\",\"sys\"]\n",
    "\n",
    "with open(\"results.pickle\", \"rb\") as f:\n",
    "    dataset = pickle.load(f)\n",
    "with open(\"simulation.plan\", \"rt\") as f:\n",
    "    params_dict = {}\n",
    "    exec(f.read(), params_dict)\n",
    "    params = [k for k in params_dict.keys() if not k.startswith(\"_\") and k != \"title\"]\n",
    "    \n",
    "print(\"params: \",params)\n",
    "print(len(dataset), \"results found\")\n",
    "df = pd.DataFrame([dataset[k] for k in dataset])\n",
    "removed_keys = [k for k in df.columns if len(df[k].unique())  == 1]\n",
    "params = [k for k in params if k not in removed_keys]\n",
    "print(df.dtypes)"
   ]
  },
  {
   "cell_type": "code",
   "execution_count": null,
   "metadata": {},
   "outputs": [],
   "source": [
    "keys = [k for k in df.columns if k not in removed_keys]\n",
    "df[keys]"
   ]
  }
 ],
 "metadata": {
  "interpreter": {
   "hash": "aee8b7b246df8f9039afb4144a1f6fd8d2ca17a180786b69acc140d282b71a49"
  },
  "kernelspec": {
   "display_name": "Python 3.9.9 64-bit",
   "language": "python",
   "name": "python3"
  },
  "language_info": {
   "codemirror_mode": {
    "name": "ipython",
    "version": 3
   },
   "file_extension": ".py",
   "mimetype": "text/x-python",
   "name": "python",
   "nbconvert_exporter": "python",
   "pygments_lexer": "ipython3",
   "version": "3.9.9"
  },
  "orig_nbformat": 4
 },
 "nbformat": 4,
 "nbformat_minor": 2
}
