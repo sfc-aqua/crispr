{
 "cells": [
  {
   "cell_type": "code",
   "execution_count": null,
   "metadata": {},
   "outputs": [],
   "source": [
    "%%capture\n",
    "%pip install pandas matplotlib\n",
    "%load_ext autoreload\n",
    "%autoreload 2"
   ]
  },
  {
   "cell_type": "code",
   "execution_count": null,
   "metadata": {},
   "outputs": [],
   "source": [
    "import pickle\n",
    "import pandas as pd\n",
    "from matplotlib import pyplot as plt\n",
    "from analysis_utils import (\n",
    "    pivot_by_cond,\n",
    "    load_logs_from_jsonl,\n",
    "    load_results_from_pickle,\n",
    "    calc_durations,\n",
    "    plot_timeline,\n",
    ")"
   ]
  },
  {
   "cell_type": "code",
   "execution_count": null,
   "metadata": {},
   "outputs": [],
   "source": [
    "# load results and parameters from pickle\n",
    "results = [\"num_total_events\", \"user\", \"sys\"]\n",
    "\n",
    "df, params, dataset, sim_names = load_results_from_pickle()\n",
    "print(df.dtypes)"
   ]
  },
  {
   "cell_type": "code",
   "execution_count": null,
   "metadata": {},
   "outputs": [],
   "source": [
    "df[params]"
   ]
  },
  {
   "cell_type": "code",
   "execution_count": null,
   "metadata": {},
   "outputs": [],
   "source": [
    "# you can specify the conditions to filter the dataframe\n",
    "condition = {\"purification_type\": 1001, \"connection_type\": '\"MIM\"'}\n",
    "\n",
    "if \"num_node\" in params:\n",
    "    pivot_by_cond(df, params=params, x=\"num_node\", value=\"user\", cond=condition).plot(\n",
    "        figsize=(15, 15), ylabel=\"duration (s)\"\n",
    "    )\n",
    "else:\n",
    "    print(f\"no parameter found: num_node\")"
   ]
  },
  {
   "cell_type": "code",
   "execution_count": null,
   "metadata": {},
   "outputs": [],
   "source": [
    "logs = load_logs_from_jsonl(sim_names)\n",
    "\n",
    "# specify a simulation to show timeline\n",
    "sim_name = sim_names[0]\n",
    "log = logs[sim_name]\n",
    "\n",
    "durations = calc_durations(log)\n",
    "\n",
    "fig, ax = plt.subplots(figsize=(35, 22))\n",
    "plt.xlim([0, 0.001])\n",
    "plot_timeline(ax, durations, \"qubit_busy\")\n",
    "plot_timeline(ax, durations, \"qubit_allocation\")\n",
    "plot_timeline(ax, durations, \"bp_lifetime\")\n",
    "for e in durations[\"bp_annotations\"]:\n",
    "    text, x, y = e\n",
    "    ax.annotate(text, xy=(x, y))\n",
    "\n",
    "ax.legend(loc=(0.01, 0.01))\n",
    "print(sim_name)"
   ]
  }
 ],
 "metadata": {
  "kernelspec": {
   "display_name": "Python 3.10.6 ('.venv': poetry)",
   "language": "python",
   "name": "python3"
  },
  "language_info": {
   "codemirror_mode": {
    "name": "ipython",
    "version": 3
   },
   "file_extension": ".py",
   "mimetype": "text/x-python",
   "name": "python",
   "nbconvert_exporter": "python",
   "pygments_lexer": "ipython3",
   "version": "3.10.6"
  },
  "orig_nbformat": 4,
  "vscode": {
   "interpreter": {
    "hash": "204dc51f37f4cd5b52389ef142ff450806d762ede90673ad0769574d90c6e09c"
   }
  }
 },
 "nbformat": 4,
 "nbformat_minor": 2
}
