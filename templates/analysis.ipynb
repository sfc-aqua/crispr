{
 "cells": [
  {
   "cell_type": "code",
   "execution_count": null,
   "metadata": {},
   "outputs": [],
   "source": [
    "!pip install pandas matplotlib"
   ]
  },
  {
   "cell_type": "code",
   "execution_count": null,
   "metadata": {},
   "outputs": [],
   "source": [
    "import pickle\n",
    "import pandas as pd"
   ]
  },
  {
   "cell_type": "code",
   "execution_count": null,
   "metadata": {},
   "outputs": [],
   "source": [
    "# util functions\n",
    "\n",
    "\n",
    "def skip_elem(arr, elem):\n",
    "    \"\"\"Return a new array with the element removed.\"\"\"\n",
    "    return [e for e in arr if e != elem]\n",
    "\n",
    "\n",
    "def pivot_by_cond(df, x=\"num_node\", value=\"user\", cond=dict()):\n",
    "    _df = df.query(\" and \".join([f\"{k} == {cond[k]}\" for k in cond])) if cond else df\n",
    "    return (\n",
    "        _df.set_index(params)\n",
    "        .reset_index(x)\n",
    "        .pivot_table(index=x, columns=skip_elem(params, x), values=value)\n",
    "    )\n"
   ]
  },
  {
   "cell_type": "code",
   "execution_count": 7,
   "metadata": {},
   "outputs": [
    {
     "name": "stdout",
     "output_type": "stream",
     "text": [
      "params:  []\n",
      "17497 results found\n",
      "['num_buf', 'num_node', 'connection_type', 'num_purification_iteration', 'purification_type']\n",
      "num_total_events                int64\n",
      "final_events_per_sec          float64\n",
      "sys                           float64\n",
      "user                          float64\n",
      "real                          float64\n",
      "error                          object\n",
      "sim_name                       object\n",
      "title                          object\n",
      "num_buf                         int64\n",
      "num_node                        int64\n",
      "network_type                   object\n",
      "connection_type                object\n",
      "config_ini_file                object\n",
      "traffic_pattern_index           int64\n",
      "lone_initiator_addr             int64\n",
      "link_tomography_enabled        object\n",
      "num_purification_iteration      int64\n",
      "purification_type               int64\n",
      "dtype: object\n"
     ]
    }
   ],
   "source": [
    "# load results and parameters from pickle\n",
    "dataset = None\n",
    "params = []\n",
    "results = [\"num_total_events\",\"user\",\"sys\"]\n",
    "\n",
    "with open(\"results.pickle\", \"rb\") as f:\n",
    "    dataset = pickle.load(f)\n",
    "\n",
    "print(\"params: \",params)\n",
    "print(len(dataset), \"results found\")\n",
    "\n",
    "# load simulation params from pickle\n",
    "all_params = dataset[\"__params__\"]\n",
    "df = pd.DataFrame([dataset[k] for k in dataset if k != \"__params__\"])\n",
    "\n",
    " # removed keys to reduce params\n",
    "removed_keys = [k for k in df.columns if len(df[k].unique())  == 1]\n",
    "params = [k for k in all_params if k not in removed_keys]\n",
    "\n",
    "print(params)\n",
    "print(df.dtypes)"
   ]
  },
  {
   "cell_type": "code",
   "execution_count": null,
   "metadata": {},
   "outputs": [],
   "source": [
    "df[params]"
   ]
  },
  {
   "cell_type": "code",
   "execution_count": null,
   "metadata": {},
   "outputs": [],
   "source": [
    "# you can specify the conditions to filter the dataframe\n",
    "condition = {\"purification_type\": 1001, \"connection_type\": '\"MIM\"'}\n",
    "\n",
    "pivot_by_cond(\n",
    "    df,\n",
    "    x=\"num_node\",\n",
    "    value=\"user\",\n",
    "    cond=condition\n",
    ").plot(figsize=(15, 15), ylabel=\"duration (s)\")\n"
   ]
  }
 ],
 "metadata": {
  "interpreter": {
   "hash": "aee8b7b246df8f9039afb4144a1f6fd8d2ca17a180786b69acc140d282b71a49"
  },
  "kernelspec": {
   "display_name": "Python 3.9.9 64-bit",
   "language": "python",
   "name": "python3"
  },
  "language_info": {
   "codemirror_mode": {
    "name": "ipython",
    "version": 3
   },
   "file_extension": ".py",
   "mimetype": "text/x-python",
   "name": "python",
   "nbconvert_exporter": "python",
   "pygments_lexer": "ipython3",
   "version": "3.9.9"
  },
  "orig_nbformat": 4
 },
 "nbformat": 4,
 "nbformat_minor": 2
}
