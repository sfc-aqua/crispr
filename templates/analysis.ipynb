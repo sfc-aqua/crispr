{
 "cells": [
  {
   "cell_type": "code",
   "execution_count": null,
   "metadata": {},
   "outputs": [],
   "source": [
    "%pip install pandas matplotlib"
   ]
  },
  {
   "cell_type": "code",
   "execution_count": null,
   "metadata": {},
   "outputs": [],
   "source": [
    "import pickle\n",
    "import pandas as pd\n",
    "from matplotlib import pyplot as plt"
   ]
  },
  {
   "cell_type": "code",
   "execution_count": null,
   "metadata": {},
   "outputs": [],
   "source": [
    "# util functions\n",
    "\n",
    "\n",
    "def pivot_by_cond(df, params, x=\"num_node\", value=\"user\", cond=dict()):\n",
    "    _df = df.query(\" and \".join([f\"{k} == {cond[k]}\" for k in cond])) if cond else df\n",
    "\n",
    "    def skip_elem(arr, elem):\n",
    "        \"\"\"Return a new array with the element removed.\"\"\"\n",
    "        return [e for e in arr if e != elem]\n",
    "\n",
    "    return (\n",
    "        _df.set_index(params)\n",
    "        .reset_index(x)\n",
    "        .pivot_table(index=x, columns=skip_elem(params, x), values=value)\n",
    "    )\n",
    "\n",
    "\n",
    "def load_results_from_pickle():\n",
    "    with open(\"results.pickle\", \"rb\") as f:\n",
    "        dataset = pickle.load(f)\n",
    "        all_params = dataset[\"__params__\"]\n",
    "        df = pd.DataFrame([dataset[k] for k in dataset if k != \"__params__\"])\n",
    "        print(len(dataset), \"results found\")\n",
    "        # removed keys to reduce params\n",
    "        removed_keys = [k for k in df.columns if len(df[k].unique()) == 1]\n",
    "        params = [k for k in all_params if k not in removed_keys]\n",
    "        print(\"params: \", params)\n",
    "        sim_names = [k for k in dataset.keys() if k != \"__params__\"]\n",
    "        return df, params, dataset, sim_names\n",
    "\n",
    "\n",
    "def load_logs_from_jsonl(sim_names):\n",
    "    logs = {}\n",
    "    for sim_name in sim_names:\n",
    "        logs[sim_name] = pd.read_json(\n",
    "            f\"./results/{sim_name}.jsonl\", orient=\"records\", lines=True\n",
    "        )\n",
    "    return logs\n"
   ]
  },
  {
   "cell_type": "code",
   "execution_count": null,
   "metadata": {},
   "outputs": [],
   "source": [
    "# load results and parameters from pickle\n",
    "dataset = None\n",
    "params = []\n",
    "results = [\"num_total_events\", \"user\", \"sys\"]\n",
    "\n",
    "df,params,dataset,sim_names = load_results_from_pickle()\n",
    "print(df.dtypes)\n"
   ]
  },
  {
   "cell_type": "code",
   "execution_count": null,
   "metadata": {},
   "outputs": [],
   "source": [
    "df[params]"
   ]
  },
  {
   "cell_type": "code",
   "execution_count": null,
   "metadata": {},
   "outputs": [],
   "source": [
    "# you can specify the conditions to filter the dataframe\n",
    "condition = {\"purification_type\": 1001, \"connection_type\": '\"MIM\"'}\n",
    "\n",
    "pivot_by_cond(df,params=params, x=\"num_node\", value=\"user\", cond=condition).plot(\n",
    "    figsize=(15, 15), ylabel=\"duration (s)\"\n",
    ")"
   ]
  },
  {
   "cell_type": "code",
   "execution_count": null,
   "metadata": {},
   "outputs": [],
   "source": [
    "logs = load_logs_from_jsonl(sim_names)\n",
    "sim_name = sim_names[1]\n",
    "log = logs[sim_name]\n",
    "durations = {}\n",
    "\n",
    "def with_qubit_key(record):\n",
    "    return (\n",
    "        record[\"address\"],\n",
    "        record[\"qnic_type\"],\n",
    "        record[\"qnic_index\"],\n",
    "        record[\"qubit_index\"],\n",
    "    )\n",
    "\n",
    "\n",
    "log[\"key\"] = log[log[\"event_type\"] == \"QubitStateChange\"].apply(with_qubit_key, axis=1)\n",
    "\n",
    "for _, rec in log.iterrows():\n",
    "    key = rec[\"key\"]\n",
    "    if key in durations:\n",
    "        if rec[\"busy\"]:\n",
    "            durations[key][\"last\"] = rec[\"simtime\"]\n",
    "        else:\n",
    "            last = durations[key][\"last\"]\n",
    "            if last:\n",
    "                durations[key][\"usage\"].append((last, rec[\"simtime\"] - last))\n",
    "            last = None\n",
    "\n",
    "    else:\n",
    "        durations[key] = {\"last\": rec[\"simtime\"], \"usage\": []}\n",
    "\n",
    "usages = []\n",
    "for key in durations:\n",
    "    d = durations[key]\n",
    "    for us in d[\"usage\"]:\n",
    "        usages.append((str(key), us[0], us[1]))\n",
    "usages = sorted(usages)\n",
    "usages.reverse()\n",
    "titles, begins, width = zip(*usages)\n",
    "plt.subplots(figsize=(25, 22))\n",
    "plt.xlim([0,0.0005])\n",
    "plt.barh(y=titles, width=width, left=begins,linewidth=0.5, edgecolor=\"black\")\n"
   ]
  },
  {
   "cell_type": "code",
   "execution_count": null,
   "metadata": {},
   "outputs": [],
   "source": [
    "log[\"event_type\"].unique()"
   ]
  }
 ],
 "metadata": {
  "kernelspec": {
   "display_name": "Python 3.10.6 ('.venv': poetry)",
   "language": "python",
   "name": "python3"
  },
  "language_info": {
   "codemirror_mode": {
    "name": "ipython",
    "version": 3
   },
   "file_extension": ".py",
   "mimetype": "text/x-python",
   "name": "python",
   "nbconvert_exporter": "python",
   "pygments_lexer": "ipython3",
   "version": "3.10.6"
  },
  "orig_nbformat": 4,
  "vscode": {
   "interpreter": {
    "hash": "204dc51f37f4cd5b52389ef142ff450806d762ede90673ad0769574d90c6e09c"
   }
  }
 },
 "nbformat": 4,
 "nbformat_minor": 2
}
